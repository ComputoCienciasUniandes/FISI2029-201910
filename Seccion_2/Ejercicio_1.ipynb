{
 "cells": [
  {
   "cell_type": "markdown",
   "metadata": {},
   "source": [
    "# Problema 1"
   ]
  },
  {
   "cell_type": "markdown",
   "metadata": {},
   "source": [
    "Una cadena de RNA es una cadena que tiene letras del alfabeto \"A\", \"C\", \"G\" y \"U\".\n",
    "dada una cadena de DNA correspondiente a una cadena codificada, su transcripción a una cadena de RNA es formada a partir del remplazo repetitivo de \"T\" en la cadena de DNA por \"U\" en la cadena de RNA.\n",
    "\n",
    "Entonces dada una cadena de DNA con longitud de a lo más $1000$ nucleotidos, cree una función que transcriba el DNA a RNA.\n",
    "\n",
    "Pruebe para varios DNA (no use funciones de python)"
   ]
  },
  {
   "cell_type": "code",
   "execution_count": 4,
   "metadata": {},
   "outputs": [],
   "source": [
    "DNA=\"CTTATGTACTGTCTGCTCTGAAACAGGGAGAATGAGGTGGTTGTGCAAAAGGAAGTCCGCGTCCGTCGGTGAATCGGCGGAGCTGACATGACGCCTGAGTATATTAATAAAACATAAATCAACCCGAGCAAGGCAACAAGGGGCTCGCGAAGTAACCAGTGATAACGTATTAGTTTTGAGAAGTGGACAGTAGTCGCACGTGTTCCTCGGAGAGGCTATCGTTAAAAATCAAGTCGAGAAGTAATTCTAACATGCTGGAGCGAATTATTTACAAGTATGGGCTGGACGAATGTGCCCAACATGTTCACGCCCGGTATCCCCTTTAATACAGTCGAATCACTACGTGCTGTGAAGAAACACGAGGCTAATTTGTGCGTGCCACTGTTGTAAGTCTTAATCGCGAGCTAAACGAGCCGAAGCGCAGTTTTGTTGGGGCCAATTGGGCTCTTGAAAACTGTGCCAGAATTCGGTTAAAGTTTAACCAATAGTCGAGCGTAATCCACCGACTTCAATGAGGCATCCTACTTTGGAAGGGCGCAGTCTCGACCCTCTAACAGCAAGCTCGCTCTGACCATATTCCAAGTGATGGTGTGCTGCCCATTCGTCATCGATGAGCTCACCACAGGAAACTTAACCTGACCTGCCCAGCTCACCGAGCGAAACTGGTCCATGACGGTCCCTTCTAGGTCGAGATGGCATAGGACAGAATTTAAATCGTTCCCGGAAAGTAGCACTCCAGGTACAAGCCGTTTTCCAATGCGCCCTACCCGATTATATGCAACTGAGAGGTCAGGCGATCACCTTCGAAAGGCTTCAGTCCTAAAGCTCAGAATACATTCTCCCCTGTTCAGGACGTAGCCATAGGCCACCGTGAGCTAGTGCGCTTAGCGCCACACCCTCTGTAGTATTCCCGGAACCGGTGGACGTCAAGCTTGTGCGACATGTATAATGCAGCACAACAATGGATCATCTTGTCGTCGGCAAGTTGCATCGGTA\"\n",
    "DNA_2=\"GAAACAGTTTAGTAGGTGAAGCTAAAGAGCTAATGAGTATCCGTAGGGTGCCATCCAGATAAGCACAGGTCTTCTTATGACTACCCGTGGGCCGGTAGTAGACATAACCGCAGAGCCCCACGTGTCCAGTTGGGACCTTCTACCCTAAATGCCATTCTATTGCGCCTAGCTTACTAGCCACCGGAGACACAAGTTTGGCCACAGATCGACCCGTTACCTCACCCTGCCCTAGTACGGGGCACCACCGAAGCAGTACACGCACAAAGAGGAATGCCGAGTAGCAGCTCTTAGAACGCTTAGCGCTGGCAGGTTGAATCAGTGTCACGTATAGGCAAGGGCGACGCGAGCGCAATCGACTTTCCCGGACTTGGTCGGCGCTGAGAGAGGGTGAGATTCCTTATCTTGCGGAGACACAAAGATTTATATAGCACAACCATCAGTCGTCGCCCCAGGTACGCCCACTGCCATCTCTACTTACGCGACACTCATACTAGGCGGAGCTGTTAAAAGTCCAAATCGATTATTAAGAACCGTCCCGACAACTGATAACGTTTCAAGGCTGTGTACTCTGCCACAGGGGAGCGTGCGATGCGTCATGGGAGCGACGTAACGACACAAAGCCGAAGCAATGTGCCTGTGTAGTCCAGCCACGACCCGTTCCCCGGAAGTCGGCATTAGGTCTTCAGTCTGAATAAATGAAGCCGAATTCGTATCTTTCAAAATTTGCAATCAGGGGCTTAAGGTAATCGGTGGGAGCCCGGTAGATGAACATGCTAAAGACGCGGGTGAATTTAGTAAGATAGTCAACGTTTTGTAAATAGGTGCCCGCCCATCAACTTTGCAGAGCACTTCTA\""
   ]
  },
  {
   "cell_type": "markdown",
   "metadata": {},
   "source": [
    "# Problema 2"
   ]
  },
  {
   "cell_type": "markdown",
   "metadata": {},
   "source": [
    "Para este problema se le pide que cree un función que calcule el cuadrado de cada digito en un número dado.\n",
    "\n",
    "Por ejemplo, si introducimos el número $9119$ en la función, el output debería ser $811181$, pues $9^2=81$ y $1^2=1$\n",
    "\n",
    "Nota: La función que usted cree debe aceptar un entero y regresar un entero."
   ]
  },
  {
   "cell_type": "markdown",
   "metadata": {},
   "source": [
    "# Problema 3"
   ]
  },
  {
   "cell_type": "markdown",
   "metadata": {},
   "source": [
    "\n",
    "Se conoce que la serie:\n",
    "\n",
    "$${\\displaystyle \\sum _{n=1}^{\\infty }{\\frac {1}{n^{2}}}={\\frac {1}{1^{2}}}+{\\frac {1}{2^{2}}}+{\\frac {1}{3^{2}}}+\\cdots }.$$\n",
    "\n",
    "Converge a un valor, el cual es $\\pi^2/6$, esto se puede escribir como:\n",
    "\n",
    "$$\\sum _{n=1}^{\\infty }{\\frac {1}{n^{2}}}={\\frac {\\pi ^{2}}{6}}$$\n",
    "\n",
    "Haga uso de un ciclo for para calcular esta suma y efectue su propio estimado del valor de $\\pi$, ¿Es este estimado bueno, que tanto difiere del valor esperado?"
   ]
  },
  {
   "cell_type": "code",
   "execution_count": null,
   "metadata": {},
   "outputs": [],
   "source": []
  },
  {
   "cell_type": "code",
   "execution_count": null,
   "metadata": {},
   "outputs": [],
   "source": []
  },
  {
   "cell_type": "code",
   "execution_count": null,
   "metadata": {},
   "outputs": [],
   "source": []
  }
 ],
 "metadata": {
  "kernelspec": {
   "display_name": "Python 3",
   "language": "python",
   "name": "python3"
  },
  "language_info": {
   "codemirror_mode": {
    "name": "ipython",
    "version": 3
   },
   "file_extension": ".py",
   "mimetype": "text/x-python",
   "name": "python",
   "nbconvert_exporter": "python",
   "pygments_lexer": "ipython3",
   "version": "3.7.1"
  }
 },
 "nbformat": 4,
 "nbformat_minor": 2
}
