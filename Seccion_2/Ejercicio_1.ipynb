{
 "cells": [
  {
   "cell_type": "markdown",
   "metadata": {},
   "source": [
    "# Problema 1\n",
    "\n",
    "Para este problema se le pide que cree un función que calcule el cuadrado de cada digito en un número dado.\n",
    "\n",
    "Por ejemplo, si introducimos el número $9119$ en la función, el output debería ser $811181$, pues $9^2=81$ y $1^2=1$\n",
    "\n",
    "Nota: La función que usted cree debe aceptar un entero y regresar un entero."
   ]
  },
  {
   "cell_type": "markdown",
   "metadata": {},
   "source": [
    "## Solución"
   ]
  },
  {
   "cell_type": "code",
   "execution_count": 1,
   "metadata": {},
   "outputs": [],
   "source": [
    "def cuadrado_digitos(n):\n",
    "    cadena=str(n)\n",
    "    resultado=\"\"\n",
    "    for i in cadena:\n",
    "        resultado+=str(int(i)**2)\n",
    "    resultado=str(resultado)\n",
    "    return resultado"
   ]
  },
  {
   "cell_type": "code",
   "execution_count": 2,
   "metadata": {},
   "outputs": [
    {
     "data": {
      "text/plain": [
       "'811181'"
      ]
     },
     "execution_count": 2,
     "metadata": {},
     "output_type": "execute_result"
    }
   ],
   "source": [
    "cuadrado_digitos(9119)"
   ]
  },
  {
   "cell_type": "markdown",
   "metadata": {},
   "source": [
    "# Problema 2\n",
    "\n",
    "Se conoce que la serie:\n",
    "\n",
    "$${\\displaystyle \\sum _{n=1}^{\\infty }{\\frac {1}{n^{2}}}={\\frac {1}{1^{2}}}+{\\frac {1}{2^{2}}}+{\\frac {1}{3^{2}}}+\\cdots }.$$\n",
    "\n",
    "Converge a un valor, el cual es $\\pi^2/6$, esto se puede escribir como:\n",
    "\n",
    "$$\\sum _{n=1}^{\\infty }{\\frac {1}{n^{2}}}={\\frac {\\pi ^{2}}{6}}$$\n",
    "\n",
    "Haga uso de un ciclo for para calcular esta suma y efectue su propio estimado del valor de $\\pi$, ¿Es este estimado bueno, que tanto difiere del valor esperado?\n",
    "Prepare una gráfica para distintos valores de $n=10^{3},\\ldots , 10^{7}$ en función del error relativo con respecto al valor de $\\pi$ de la libreria de ``math``"
   ]
  },
  {
   "cell_type": "markdown",
   "metadata": {},
   "source": [
    "## Solución"
   ]
  },
  {
   "cell_type": "code",
   "execution_count": 3,
   "metadata": {},
   "outputs": [],
   "source": [
    "import math\n",
    "import numpy as np\n",
    "import matplotlib.pylab as plt"
   ]
  },
  {
   "cell_type": "code",
   "execution_count": 4,
   "metadata": {},
   "outputs": [],
   "source": [
    "error=[]\n",
    "N=[]\n",
    "for exponente in range(3,8):\n",
    "    n=10**(exponente)\n",
    "    suma=[1.0/i**2 for i in range(1,n)]\n",
    "    suma=np.sum(suma)\n",
    "    suma=math.sqrt(suma*6)\n",
    "    error.append(np.abs(suma-math.pi)/math.pi)\n",
    "    N.append(n)"
   ]
  },
  {
   "cell_type": "code",
   "execution_count": 5,
   "metadata": {},
   "outputs": [
    {
     "data": {
      "image/png": "[encoded data removed]",
      "text/plain": [
       "<Figure size 504x360 with 1 Axes>"
      ]
     },
     "metadata": {
      "needs_background": "light"
     },
     "output_type": "display_data"
    }
   ],
   "source": [
    "plt.figure(figsize=(7,5))\n",
    "plt.plot(N,error)\n",
    "plt.xlabel(\"Numero de interaciones\")\n",
    "plt.ylabel(\"error\")\n",
    "plt.show()"
   ]
  },
  {
   "cell_type": "code",
   "execution_count": null,
   "metadata": {},
   "outputs": [],
   "source": []
  }
 ],
 "metadata": {
  "kernelspec": {
   "display_name": "Python 3",
   "language": "python",
   "name": "python3"
  },
  "language_info": {
   "codemirror_mode": {
    "name": "ipython",
    "version": 3
   },
   "file_extension": ".py",
   "mimetype": "text/x-python",
   "name": "python",
   "nbconvert_exporter": "python",
   "pygments_lexer": "ipython3",
   "version": "3.7.1"
  }
 },
 "nbformat": 4,
 "nbformat_minor": 2
}
