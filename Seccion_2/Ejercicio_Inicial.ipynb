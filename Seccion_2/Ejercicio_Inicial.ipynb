{
 "cells": [
  {
   "cell_type": "markdown",
   "metadata": {},
   "source": [
    "# Ejercicio 1"
   ]
  },
  {
   "cell_type": "markdown",
   "metadata": {},
   "source": [
    "Haciendo uso de un ciclo ``for`` encuentre los numeros primos entre $100$ y $300$"
   ]
  },
  {
   "cell_type": "markdown",
   "metadata": {},
   "source": [
    "## Solucion"
   ]
  },
  {
   "cell_type": "code",
   "execution_count": 4,
   "metadata": {},
   "outputs": [
    {
     "name": "stdout",
     "output_type": "stream",
     "text": [
      "[101, 103, 107, 109, 113, 127, 131, 137, 139, 149, 151, 157, 163, 167, 173, 179, 181, 191, 193, 197, 199, 211, 223, 227, 229, 233, 239, 241, 251, 257, 263, 269, 271, 277, 281, 283, 293]\n"
     ]
    }
   ],
   "source": [
    "num_primos=[]\n",
    "for n in range(101,300,2):\n",
    "    primo=True\n",
    "    for j in range(2,n):\n",
    "        if n%j==0:\n",
    "            primo=False\n",
    "            break\n",
    "    if primo==True:\n",
    "        num_primos.append(n)\n",
    "print(num_primos)"
   ]
  },
  {
   "cell_type": "markdown",
   "metadata": {},
   "source": [
    "# Ejercicio 2"
   ]
  },
  {
   "cell_type": "markdown",
   "metadata": {},
   "source": [
    "Dada la siguiente lista generada con números aleatorios, organice la lista de menor a mayor sin hacer uso de ninguna función de ``python``"
   ]
  },
  {
   "cell_type": "code",
   "execution_count": 17,
   "metadata": {},
   "outputs": [],
   "source": [
    "from random import randint\n",
    "lista=[]\n",
    "for i in range(100):\n",
    "    lista.append(randint(1,1000))"
   ]
  },
  {
   "cell_type": "code",
   "execution_count": 18,
   "metadata": {},
   "outputs": [],
   "source": [
    "a=lista.copy() \n",
    "# Aca es necesario hacer una copia de la lista pues en python por defecto se pasan los valores por referencia y no por valor\n",
    "# Luego explicaremos esto que quiere decir\n",
    "for i in range(len(a)):\n",
    "    for j in range(len(a)):\n",
    "        if a[j]>a[i]:\n",
    "            temporal=a[i]\n",
    "            a[i]=a[j]\n",
    "            a[j]=temporal"
   ]
  },
  {
   "cell_type": "code",
   "execution_count": 20,
   "metadata": {},
   "outputs": [
    {
     "name": "stdout",
     "output_type": "stream",
     "text": [
      "Antes [128, 889, 878, 393, 961, 197, 217, 139, 537, 117, 313, 360, 811, 597, 520, 74, 523, 610, 758, 446, 81, 542, 741, 973, 850, 992, 203, 673, 229, 169, 355, 604, 996, 870, 616, 257, 286, 90, 646, 138, 165, 621, 505, 744, 775, 436, 282, 576, 241, 214, 218, 996, 710, 333, 520, 636, 863, 661, 502, 592, 924, 590, 800, 306, 682, 362, 453, 845, 990, 32, 381, 188, 961, 687, 963, 184, 607, 741, 824, 847, 823, 182, 592, 3, 241, 363, 290, 630, 321, 641, 988, 376, 527, 146, 643, 569, 290, 526, 898, 908] \n",
      " Despues [3, 32, 74, 81, 90, 117, 128, 138, 139, 146, 165, 169, 182, 184, 188, 197, 203, 214, 217, 218, 229, 241, 241, 257, 282, 286, 290, 290, 306, 313, 321, 333, 355, 360, 362, 363, 376, 381, 393, 436, 446, 453, 502, 505, 520, 520, 523, 526, 527, 537, 542, 569, 576, 590, 592, 592, 597, 604, 607, 610, 616, 621, 630, 636, 641, 643, 646, 661, 673, 682, 687, 710, 741, 741, 744, 758, 775, 800, 811, 823, 824, 845, 847, 850, 863, 870, 878, 889, 898, 908, 924, 961, 961, 963, 973, 988, 990, 992, 996, 996]\n"
     ]
    }
   ],
   "source": [
    "print(\"Antes\",lista,\"\\n\",\"Despues\",a)"
   ]
  },
  {
   "cell_type": "code",
   "execution_count": null,
   "metadata": {},
   "outputs": [],
   "source": []
  }
 ],
 "metadata": {
  "kernelspec": {
   "display_name": "Python 3",
   "language": "python",
   "name": "python3"
  },
  "language_info": {
   "codemirror_mode": {
    "name": "ipython",
    "version": 3
   },
   "file_extension": ".py",
   "mimetype": "text/x-python",
   "name": "python",
   "nbconvert_exporter": "python",
   "pygments_lexer": "ipython3",
   "version": "3.7.1"
  }
 },
 "nbformat": 4,
 "nbformat_minor": 2
}
