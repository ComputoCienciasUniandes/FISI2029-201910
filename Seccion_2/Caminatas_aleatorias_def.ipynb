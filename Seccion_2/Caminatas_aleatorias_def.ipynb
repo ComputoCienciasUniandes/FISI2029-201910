{
 "cells": [
  {
   "cell_type": "code",
   "execution_count": 1,
   "metadata": {},
   "outputs": [],
   "source": [
    "import matplotlib.pylab as plt\n",
    "import numpy as np\n",
    "import random"
   ]
  },
  {
   "cell_type": "code",
   "execution_count": 2,
   "metadata": {},
   "outputs": [],
   "source": [
    "class Ubicacion(object):\n",
    "    def __init__(self,x,y):\n",
    "        self.x=x\n",
    "        self.y=y\n",
    "    def muevase(self,deltaX,deltaY):\n",
    "        return Ubicacion(self.x+deltaX,self.y+deltaY)\n",
    "    def Donde_esta_x(self):\n",
    "        return self.x\n",
    "    def Donde_esta_y(self):\n",
    "        return self.y\n",
    "    def Distancia_desde(self,otro):\n",
    "        otro_x=otro.x\n",
    "        otro_y=otro.y\n",
    "        Distancia_en_x=self.x-otro_x\n",
    "        Distancia_en_y=self.y-otro_y\n",
    "        return (Distancia_en_x**2 + Distancia_en_y**2)**0.5\n",
    "    def __str__(self):\n",
    "        return \"<\"+str(self.x)+\", \"+str(self.y)+\">\""
   ]
  },
  {
   "cell_type": "code",
   "execution_count": 3,
   "metadata": {},
   "outputs": [],
   "source": [
    "class Campo(object):\n",
    "    def __init__(self):\n",
    "        self.borrachos={}\n",
    "    def Agregue_borracho(self,borracho,loc):\n",
    "        if borracho in self.borrachos:\n",
    "            raise ValueError(\"Hay dos borrachos iguales\")\n",
    "        else:\n",
    "            self.borrachos[borracho]=loc\n",
    "    def Tener_loc(self,borracho):\n",
    "        if borracho not in self.borrachos:\n",
    "            raise ValueError(\"El borracho no esta en el campo\")\n",
    "        return self.borrachos[borracho]\n",
    "    def Mueva_el_borracho(self,ebrio):\n",
    "        if ebrio not in self.borrachos:\n",
    "            raise ValueError(\"El borracho no esta en el campo\")\n",
    "        Distancia_x,Distancia_y=ebrio.Avance()\n",
    "        Loc_actual=self.borrachos[ebrio]\n",
    "        self.borrachos[ebrio]= Loc_actual.muevase(Distancia_x,Distancia_y)\n",
    "        "
   ]
  },
  {
   "cell_type": "code",
   "execution_count": 4,
   "metadata": {},
   "outputs": [],
   "source": [
    "class Borracho(object):\n",
    "    def __init__(self,nombre=None):\n",
    "        self.nombre=nombre\n",
    "    def __str__(self):\n",
    "        return \"Este man se llama \" + self.nombre"
   ]
  },
  {
   "cell_type": "code",
   "execution_count": 5,
   "metadata": {},
   "outputs": [],
   "source": [
    "class Tipico_Borracho(Borracho):\n",
    "    def Avance(self):\n",
    "        posibilidades=[(0.0,1.0),(0.0,-1.0),(1.0,0.0),(-1.0,0.0)]\n",
    "        return random.choice(posibilidades)\n",
    "class Borracho_con_frio(Borracho):\n",
    "    def Avance(self):\n",
    "        posibilidades=[(0.0,0.9),(0.0,-1.1),(1.0,0.0),(-1.0,0.0)]\n",
    "        return random.choice(posibilidades)"
   ]
  },
  {
   "cell_type": "code",
   "execution_count": 6,
   "metadata": {},
   "outputs": [],
   "source": [
    "def caminata(campo,ebrio,Num_pasos):\n",
    "    inicio = campo.Tener_loc(ebrio)\n",
    "    for pasos in range(Num_pasos):\n",
    "        campo.Mueva_el_borracho(ebrio)\n",
    "    return inicio.Distancia_desde(campo.Tener_loc(ebrio))"
   ]
  },
  {
   "cell_type": "code",
   "execution_count": 7,
   "metadata": {},
   "outputs": [],
   "source": [
    "def simular_caminatas(Num_pasos,Num_intentos,tipo_de_borracho):\n",
    "    Homer = tipo_de_borracho()\n",
    "    origen = Ubicacion(0,0)\n",
    "    distancias = []\n",
    "    for t in range(Num_intentos):\n",
    "        c=Campo()\n",
    "        c.Agregue_borracho(Homer,origen)\n",
    "        distancias.append(round(caminata(c,Homer,Num_pasos),1))\n",
    "    return distancias   "
   ]
  },
  {
   "cell_type": "code",
   "execution_count": 8,
   "metadata": {},
   "outputs": [],
   "source": [
    "def Testear_Borracho(longitud_caminata,Num_intentos,tipo_de_borracho):\n",
    "    for num_pasos in longitud_caminata:\n",
    "        distancias = simular_caminatas(num_pasos,Num_intentos,tipo_de_borracho)\n",
    "        print(tipo_de_borracho.__name__,\"Caminata aleatoria de\",num_pasos,\"pasos\")\n",
    "        print(\"Promedio =\",round(sum(distancias)/len(distancias),4))\n",
    "        print(\"Maximo =\",max(distancias),\"Minimo =\",min(distancias))"
   ]
  },
  {
   "cell_type": "code",
   "execution_count": 9,
   "metadata": {},
   "outputs": [],
   "source": [
    "def Simular_todos(tipos_borrachos,Longitud_caminata,Num_intentos):\n",
    "    for tipo_borracho in tipos_borrachos:\n",
    "        Testear_Borracho(Longitud_caminata,Num_intentos,tipo_borracho)"
   ]
  },
  {
   "cell_type": "code",
   "execution_count": 10,
   "metadata": {},
   "outputs": [
    {
     "name": "stdout",
     "output_type": "stream",
     "text": [
      "Tipico_Borracho Caminata aleatoria de 10 pasos\n",
      "Promedio = 2.863\n",
      "Maximo = 7.2 Minimo = 0.0\n",
      "Tipico_Borracho Caminata aleatoria de 100 pasos\n",
      "Promedio = 8.296\n",
      "Maximo = 21.6 Minimo = 1.4\n",
      "Tipico_Borracho Caminata aleatoria de 1000 pasos\n",
      "Promedio = 27.297\n",
      "Maximo = 66.3 Minimo = 4.2\n",
      "Tipico_Borracho Caminata aleatoria de 10000 pasos\n",
      "Promedio = 89.241\n",
      "Maximo = 226.5 Minimo = 10.0\n"
     ]
    }
   ],
   "source": [
    "random.seed(0)\n",
    "Testear_Borracho((10,100,1000,10000),100,Tipico_Borracho)"
   ]
  },
  {
   "cell_type": "code",
   "execution_count": 11,
   "metadata": {},
   "outputs": [
    {
     "name": "stdout",
     "output_type": "stream",
     "text": [
      "Tipico_Borracho Caminata aleatoria de 1 pasos\n",
      "Promedio = 1.0\n",
      "Maximo = 1.0 Minimo = 1.0\n",
      "Tipico_Borracho Caminata aleatoria de 10 pasos\n",
      "Promedio = 2.948\n",
      "Maximo = 7.2 Minimo = 0.0\n",
      "Tipico_Borracho Caminata aleatoria de 100 pasos\n",
      "Promedio = 8.453\n",
      "Maximo = 21.6 Minimo = 1.4\n",
      "Tipico_Borracho Caminata aleatoria de 1000 pasos\n",
      "Promedio = 27.138\n",
      "Maximo = 72.8 Minimo = 1.4\n",
      "Tipico_Borracho Caminata aleatoria de 10000 pasos\n",
      "Promedio = 90.661\n",
      "Maximo = 222.9 Minimo = 5.1\n",
      "Borracho_con_frio Caminata aleatoria de 1 pasos\n",
      "Promedio = 0.996\n",
      "Maximo = 1.1 Minimo = 0.9\n",
      "Borracho_con_frio Caminata aleatoria de 10 pasos\n",
      "Promedio = 2.788\n",
      "Maximo = 7.1 Minimo = 0.2\n",
      "Borracho_con_frio Caminata aleatoria de 100 pasos\n",
      "Promedio = 9.602\n",
      "Maximo = 22.9 Minimo = 0.4\n",
      "Borracho_con_frio Caminata aleatoria de 1000 pasos\n",
      "Promedio = 53.525\n",
      "Maximo = 108.3 Minimo = 7.3\n",
      "Borracho_con_frio Caminata aleatoria de 10000 pasos\n",
      "Promedio = 495.128\n",
      "Maximo = 654.6 Minimo = 323.9\n"
     ]
    }
   ],
   "source": [
    "random.seed(0)\n",
    "Simular_todos((Tipico_Borracho,Borracho_con_frio),(1,10,100,1000,10000),100)"
   ]
  },
  {
   "cell_type": "code",
   "execution_count": 12,
   "metadata": {},
   "outputs": [],
   "source": [
    "class styleInterator(object):\n",
    "    def __init__(self,styles):\n",
    "        self.index = 0\n",
    "        self.styles = styles\n",
    "    def nextStyle(self):\n",
    "        result=self.styles[self.index]\n",
    "        if self.index == len(self.styles)-1:\n",
    "            self.index=0\n",
    "        else:\n",
    "            self.index +=1\n",
    "        return result"
   ]
  },
  {
   "cell_type": "code",
   "execution_count": 13,
   "metadata": {},
   "outputs": [],
   "source": [
    "def simular_borracho(Num_intentos, tipo_borracho,Longitudes_caminata):\n",
    "    Distancia_promedio = []\n",
    "    for Num_pasos in Longitudes_caminata:\n",
    "        print(\"empezando simulacion de\",Num_pasos, \"pasos\")\n",
    "        intentos = simular_caminatas(Num_pasos,Num_intentos,tipo_borracho)\n",
    "        promedio= sum(intentos)/len(intentos)\n",
    "        Distancia_promedio.append(promedio)\n",
    "    return Distancia_promedio"
   ]
  },
  {
   "cell_type": "code",
   "execution_count": 14,
   "metadata": {},
   "outputs": [],
   "source": [
    "def Simular_todos_plot(tipos_borrachos,Longitud_caminata,Num_intentos):\n",
    "    styleChoice=styleInterator((\"m-\",\"b--\",\"g-.\"))\n",
    "    for tipo_borracho in tipos_borrachos:\n",
    "        curStyle=styleChoice.nextStyle()\n",
    "        print(\"Empezando simulacion de\",tipo_borracho.__name__)\n",
    "        promedios=simular_borracho(Num_intentos,tipo_borracho,Longitud_caminata)\n",
    "        plt.plot(Longitud_caminata,promedios,curStyle,label=tipo_borracho.__name__)\n",
    "    plt.title(\"Distancia promedio desde el origen (\"+str(Num_intentos)+\" intentos)\")\n",
    "    plt.xlabel(\"Numero de pasos\")\n",
    "    plt.ylabel(\"Distancia del origen\")\n",
    "    plt.legend(loc=\"best\")\n",
    "plt.show()        "
   ]
  },
  {
   "cell_type": "code",
   "execution_count": 15,
   "metadata": {},
   "outputs": [
    {
     "name": "stdout",
     "output_type": "stream",
     "text": [
      "Empezando simulacion de Tipico_Borracho\n",
      "empezando simulacion de 10 pasos\n",
      "empezando simulacion de 100 pasos\n",
      "empezando simulacion de 1000 pasos\n",
      "empezando simulacion de 10000 pasos\n",
      "Empezando simulacion de Borracho_con_frio\n",
      "empezando simulacion de 10 pasos\n",
      "empezando simulacion de 100 pasos\n",
      "empezando simulacion de 1000 pasos\n",
      "empezando simulacion de 10000 pasos\n"
     ]
    },
    {
     "data": {
      "image/png": "[encoded data removed]",
      "text/plain": [
       "<Figure size 432x288 with 1 Axes>"
      ]
     },
     "metadata": {
      "needs_background": "light"
     },
     "output_type": "display_data"
    }
   ],
   "source": [
    "num_pasos=(10,100,1000,10000)\n",
    "Simular_todos_plot((Tipico_Borracho,Borracho_con_frio),num_pasos,100)"
   ]
  },
  {
   "cell_type": "code",
   "execution_count": 16,
   "metadata": {},
   "outputs": [],
   "source": [
    "def Tener_posiciones_finales(Num_pasos,Num_intentos,tipo_borracho):\n",
    "    Locs=[]\n",
    "    borracho=tipo_borracho()\n",
    "    for t in range(Num_intentos):\n",
    "        c=Campo()\n",
    "        c.Agregue_borracho(borracho,Ubicacion(0,0))\n",
    "        for s in range(Num_pasos):\n",
    "            c.Mueva_el_borracho(borracho)\n",
    "        Locs.append(c.Tener_loc(borracho))\n",
    "    return Locs"
   ]
  },
  {
   "cell_type": "code",
   "execution_count": 17,
   "metadata": {},
   "outputs": [],
   "source": [
    "def plotLocs(tipos_borrachos,Num_pasos, Num_intentos):\n",
    "    styleChoice = styleInterator((\"k+\",\"r^\",\"mo\"))\n",
    "    for tipo_borracho in tipos_borrachos:\n",
    "        locs=Tener_posiciones_finales(Num_pasos,Num_intentos,tipo_borracho)\n",
    "        xVals,yVals=[],[]\n",
    "        for loc in locs:\n",
    "            xVals.append(loc.Donde_esta_x())\n",
    "            yVals.append(loc.Donde_esta_y())\n",
    "        xVals = np.array(xVals)\n",
    "        yVals = np.array(yVals)\n",
    "        meanX=np.sum(np.abs(xVals))/len(xVals)\n",
    "        meanY=np.sum(np.abs(yVals))/len(yVals)\n",
    "        curStyle = styleChoice.nextStyle()\n",
    "        plt.plot(xVals,yVals,curStyle,label=tipo_borracho.__name__+\" promedio Abs distancia =<\"+str(round(meanX,3))+\",\"+str(round(meanY,3))+\">\")\n",
    "    plt.title(\"Ubicaciion al final de la caminata \"+str(Num_pasos)+\" pasos\")\n",
    "    plt.ylim(-1000,1000)\n",
    "    plt.xlim(-1000,1000)\n",
    "    plt.xlabel(\"Pasos este oeste del origen\")\n",
    "    plt.ylabel(\"Pasos norte sur del origen\")\n",
    "    plt.legend(loc=\"upper left\")     "
   ]
  },
  {
   "cell_type": "code",
   "execution_count": 18,
   "metadata": {},
   "outputs": [
    {
     "data": {
      "image/png": "[encoded data removed]",
      "text/plain": [
       "<Figure size 432x288 with 1 Axes>"
      ]
     },
     "metadata": {
      "needs_background": "light"
     },
     "output_type": "display_data"
    }
   ],
   "source": [
    "random.seed(0)\n",
    "plotLocs((Tipico_Borracho,Borracho_con_frio),10000,100)"
   ]
  },
  {
   "cell_type": "code",
   "execution_count": 25,
   "metadata": {},
   "outputs": [],
   "source": [
    "class Campo_raro(Campo):\n",
    "    def __init__(self, numAgujeros = 1000, Rango_x=10, Rango_y=10):\n",
    "        Campo.__init__(self)\n",
    "        self.Agujero_gusano = {}\n",
    "        for Ag in range(numAgujeros):\n",
    "            x= random.randint(-Rango_x,Rango_x)\n",
    "            y= random.randint(-Rango_y,Rango_y)\n",
    "            nuevo_x = random.randint(-Rango_x,Rango_x)\n",
    "            nuevo_y = random.randint(-Rango_y,Rango_y)\n",
    "            Nueva_ubicacion = Ubicacion(nuevo_x,nuevo_y)\n",
    "            self.Agujero_gusano[(x,y)]=Nueva_ubicacion\n",
    "    def Mueva_el_borracho(self,borracho):\n",
    "        Campo.Mueva_el_borracho(self,borracho)\n",
    "        x=self.borrachos[borracho].Donde_esta_x()\n",
    "        y=self.borrachos[borracho].Donde_esta_y()\n",
    "        if (x,y) in self.Agujero_gusano:\n",
    "            self.borrachos[borracho]=self.Agujero_gusano[(x,y)]"
   ]
  },
  {
   "cell_type": "code",
   "execution_count": 28,
   "metadata": {},
   "outputs": [],
   "source": [
    "def Dibujar_caminata(Tipo_campo,num_pasos):\n",
    "    styleChoice= styleInterator((\"b+\",\"r^\",\"ko\"))\n",
    "    for campo in Tipo_campo:\n",
    "        ebrio = Tipico_Borracho()\n",
    "        #ebrio = Borracho_con_frio()\n",
    "        c = campo()\n",
    "        c.Agregue_borracho(ebrio,Ubicacion(0,0))\n",
    "        Locs=[]\n",
    "        for paso in range(num_pasos):\n",
    "            c.Mueva_el_borracho(ebrio)\n",
    "            Locs.append(c.Tener_loc(ebrio))\n",
    "        xVals, yVals = [],[]\n",
    "        for loc in Locs:\n",
    "            xVals.append(loc.Donde_esta_x())\n",
    "            yVals.append(loc.Donde_esta_y())\n",
    "        curStyle = styleChoice.nextStyle()\n",
    "        plt.plot(xVals,yVals,curStyle,label=campo.__name__)\n",
    "    plt.title(\"Lugares visitados en la caminata de \"+str(num_pasos)+\" pasos\")\n",
    "    plt.xlabel(\"Pasos Este/Oeste desde el origen\")\n",
    "    plt.ylabel(\"Pasos Norte/sur del origen\")\n",
    "    plt.legend(loc=\"best\")"
   ]
  },
  {
   "cell_type": "code",
   "execution_count": 30,
   "metadata": {},
   "outputs": [
    {
     "data": {
      "image/png": "[encoded data removed]",
      "text/plain": [
       "<Figure size 432x288 with 1 Axes>"
      ]
     },
     "metadata": {
      "needs_background": "light"
     },
     "output_type": "display_data"
    }
   ],
   "source": [
    "Dibujar_caminata((Campo, Campo_raro),1000)"
   ]
  },
  {
   "cell_type": "code",
   "execution_count": null,
   "metadata": {},
   "outputs": [],
   "source": []
  },
  {
   "cell_type": "code",
   "execution_count": null,
   "metadata": {},
   "outputs": [],
   "source": []
  },
  {
   "cell_type": "code",
   "execution_count": null,
   "metadata": {},
   "outputs": [],
   "source": []
  },
  {
   "cell_type": "code",
   "execution_count": null,
   "metadata": {},
   "outputs": [],
   "source": []
  },
  {
   "cell_type": "code",
   "execution_count": null,
   "metadata": {},
   "outputs": [],
   "source": []
  },
  {
   "cell_type": "code",
   "execution_count": null,
   "metadata": {},
   "outputs": [],
   "source": []
  },
  {
   "cell_type": "code",
   "execution_count": null,
   "metadata": {},
   "outputs": [],
   "source": []
  },
  {
   "cell_type": "code",
   "execution_count": null,
   "metadata": {},
   "outputs": [],
   "source": []
  },
  {
   "cell_type": "code",
   "execution_count": null,
   "metadata": {},
   "outputs": [],
   "source": []
  },
  {
   "cell_type": "code",
   "execution_count": null,
   "metadata": {},
   "outputs": [],
   "source": []
  }
 ],
 "metadata": {
  "kernelspec": {
   "display_name": "Python 3",
   "language": "python",
   "name": "python3"
  },
  "language_info": {
   "codemirror_mode": {
    "name": "ipython",
    "version": 3
   },
   "file_extension": ".py",
   "mimetype": "text/x-python",
   "name": "python",
   "nbconvert_exporter": "python",
   "pygments_lexer": "ipython3",
   "version": "3.6.7"
  }
 },
 "nbformat": 4,
 "nbformat_minor": 2
}
