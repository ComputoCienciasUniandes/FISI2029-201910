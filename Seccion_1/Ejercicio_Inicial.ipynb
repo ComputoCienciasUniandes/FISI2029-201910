{
 "cells": [
  {
   "cell_type": "markdown",
   "metadata": {},
   "source": [
    "# Ejercicio 1"
   ]
  },
  {
   "cell_type": "markdown",
   "metadata": {},
   "source": [
    "Haciendo uso de un ciclo ``for`` encuentre e imprima los numero pares entre $10000$ y $50000$"
   ]
  },
  {
   "cell_type": "markdown",
   "metadata": {},
   "source": [
    "## Solucion"
   ]
  },
  {
   "cell_type": "code",
   "execution_count": 10,
   "metadata": {},
   "outputs": [
    {
     "name": "stdout",
     "output_type": "stream",
     "text": [
      "[10000, 10002, 10004, 10006, 10008, 10010, 10012, 10014, 10016, 10018, 10020, 10022, 10024, 10026, 10028, 10030, 10032, 10034, 10036, 10038, 10040, 10042, 10044, 10046, 10048, 10050, 10052, 10054, 10056, 10058, 10060, 10062, 10064, 10066, 10068, 10070, 10072, 10074, 10076, 10078, 10080, 10082, 10084, 10086, 10088, 10090, 10092, 10094, 10096, 10098, 10100, 10102, 10104, 10106, 10108, 10110, 10112, 10114, 10116, 10118, 10120, 10122, 10124, 10126, 10128, 10130, 10132, 10134, 10136, 10138, 10140, 10142, 10144, 10146, 10148, 10150, 10152, 10154, 10156, 10158, 10160, 10162, 10164, 10166, 10168, 10170, 10172, 10174, 10176, 10178, 10180, 10182, 10184, 10186, 10188, 10190, 10192, 10194, 10196, 10198] [499802, 499804, 499806, 499808, 499810, 499812, 499814, 499816, 499818, 499820, 499822, 499824, 499826, 499828, 499830, 499832, 499834, 499836, 499838, 499840, 499842, 499844, 499846, 499848, 499850, 499852, 499854, 499856, 499858, 499860, 499862, 499864, 499866, 499868, 499870, 499872, 499874, 499876, 499878, 499880, 499882, 499884, 499886, 499888, 499890, 499892, 499894, 499896, 499898, 499900, 499902, 499904, 499906, 499908, 499910, 499912, 499914, 499916, 499918, 499920, 499922, 499924, 499926, 499928, 499930, 499932, 499934, 499936, 499938, 499940, 499942, 499944, 499946, 499948, 499950, 499952, 499954, 499956, 499958, 499960, 499962, 499964, 499966, 499968, 499970, 499972, 499974, 499976, 499978, 499980, 499982, 499984, 499986, 499988, 499990, 499992, 499994, 499996, 499998, 500000]\n"
     ]
    }
   ],
   "source": [
    "numeros=[]\n",
    "for i in range(10000,500002,2):\n",
    "    numeros.append(i)\n",
    "#para que no tome mucho timepo imprimimos sólo los primeros 100 y los ultimos 100\n",
    "print(numeros[:100],numeros[-100:])"
   ]
  },
  {
   "cell_type": "markdown",
   "metadata": {},
   "source": [
    "# Ejercicio 2"
   ]
  },
  {
   "cell_type": "markdown",
   "metadata": {},
   "source": [
    "Dada la siguiente lista generada con números aleatorios, organice la lista de menor a mayor sin hacer uso de ninguna función de ``python``"
   ]
  },
  {
   "cell_type": "code",
   "execution_count": 21,
   "metadata": {},
   "outputs": [],
   "source": [
    "from random import randint\n",
    "lista=[]\n",
    "for i in range(10):\n",
    "    lista.append(randint(1,100))"
   ]
  },
  {
   "cell_type": "code",
   "execution_count": 22,
   "metadata": {},
   "outputs": [],
   "source": [
    "a=lista.copy() \n",
    "# Aca es necesario hacer una copia de la lista pues en python por defecto se pasan los valores por referencia y no por valor\n",
    "# Luego explicaremos esto que quiere decir\n",
    "for i in range(len(a)):\n",
    "    for j in range(len(a)):\n",
    "        if a[j]>a[i]:\n",
    "            temporal=a[i]\n",
    "            a[i]=a[j]\n",
    "            a[j]=temporal"
   ]
  },
  {
   "cell_type": "code",
   "execution_count": 24,
   "metadata": {},
   "outputs": [
    {
     "name": "stdout",
     "output_type": "stream",
     "text": [
      "antes [89, 98, 47, 85, 85, 48, 32, 53, 67, 68] \n",
      " despues [32, 47, 48, 53, 67, 68, 85, 85, 89, 98]\n"
     ]
    }
   ],
   "source": [
    "print(\"antes\",lista,\"\\n\",\"despues\",a)"
   ]
  },
  {
   "cell_type": "code",
   "execution_count": null,
   "metadata": {},
   "outputs": [],
   "source": []
  }
 ],
 "metadata": {
  "kernelspec": {
   "display_name": "Python 3",
   "language": "python",
   "name": "python3"
  },
  "language_info": {
   "codemirror_mode": {
    "name": "ipython",
    "version": 3
   },
   "file_extension": ".py",
   "mimetype": "text/x-python",
   "name": "python",
   "nbconvert_exporter": "python",
   "pygments_lexer": "ipython3",
   "version": "3.7.1"
  }
 },
 "nbformat": 4,
 "nbformat_minor": 2
}
